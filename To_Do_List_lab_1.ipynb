{
  "nbformat": 4,
  "nbformat_minor": 0,
  "metadata": {
    "colab": {
      "provenance": []
    },
    "kernelspec": {
      "name": "python3",
      "display_name": "Python 3"
    },
    "language_info": {
      "name": "python"
    }
  },
  "cells": [
    {
      "cell_type": "code",
      "source": [
        "import os\n",
        "\n",
        "def add_task(tasks, new_task):\n",
        "    tasks.append(new_task)\n",
        "    print(\"Task Added Successfully.\")\n",
        "\n",
        "def show_tasks(tasks):\n",
        "    if not tasks:\n",
        "        print(\"No tasks found.\")\n",
        "    else:\n",
        "        for i, task in enumerate(tasks, 1):\n",
        "            print(f\"{i}. {task}\")\n",
        "\n",
        "\n",
        "def save_task_to_file(file_path, tasks):\n",
        "    with open(file_path, \"w\") as file:\n",
        "        for task in tasks:\n",
        "            file.write(f\"{task}\\n\")\n",
        "\n",
        "def load_tasks_from_file(file_path):\n",
        "    tasks = []\n",
        "    if os.path.exists(file_path):\n",
        "        with open(file_path, \"r\") as file:\n",
        "            tasks = file.read().splitlines()\n",
        "    return tasks\n",
        "\n",
        "def main():\n",
        "    file_path = \"todo_list.txt\"\n",
        "    tasks = load_tasks_from_file(file_path)\n",
        "    while True:\n",
        "       print(\"\\n==== To Do List====\")\n",
        "       print(\"1: Add Task\")\n",
        "       print(\"2: show Task\")\n",
        "       print(\"3: Save Task\")\n",
        "       print(\"4: Exit\")\n",
        "       choice = input(\"Enter your choice (1-4): \")\n",
        "       if choice == \"1\":\n",
        "             new_task = input(\"Enter the task to add: \")\n",
        "             add_task(tasks, new_task)\n",
        "       elif choice == \"2\":\n",
        "            show_tasks(tasks)\n",
        "       elif choice == \"3\":\n",
        "            index = int(input(\"Enter the task index to delete: \"))\n",
        "            save_task_to_file(tasks, index)\n",
        "       elif choice == \"4\":\n",
        "            save_task_to_file(file_path, tasks)\n",
        "            print(\"Tasks Exit\")\n",
        "            break\n",
        "       else:\n",
        "            print(\"Invalid choice. Please try again.\")\n",
        "\n",
        "if __name__ == \"__main__\":\n",
        "    main()"
      ],
      "metadata": {
        "colab": {
          "base_uri": "https://localhost:8080/"
        },
        "id": "xA8m2_6-MKUc",
        "outputId": "fa35f449-eb5e-4aa3-fd31-466b41757da1"
      },
      "execution_count": 8,
      "outputs": [
        {
          "output_type": "stream",
          "name": "stdout",
          "text": [
            "\n",
            "==== To Do List====\n",
            "1: Add Task\n",
            "2: show Task\n",
            "3: Save Task\n",
            "4: Exit\n",
            "Enter your choice (1-4): 1\n",
            "Enter the task to add: namaz\n",
            "Task Added Successfully.\n",
            "\n",
            "==== To Do List====\n",
            "1: Add Task\n",
            "2: show Task\n",
            "3: Save Task\n",
            "4: Exit\n",
            "Enter your choice (1-4): 2\n",
            "1. namaz\n",
            "\n",
            "==== To Do List====\n",
            "1: Add Task\n",
            "2: show Task\n",
            "3: Save Task\n",
            "4: Exit\n",
            "Enter your choice (1-4): 2\n",
            "1. namaz\n",
            "\n",
            "==== To Do List====\n",
            "1: Add Task\n",
            "2: show Task\n",
            "3: Save Task\n",
            "4: Exit\n",
            "Enter your choice (1-4): 4\n",
            "Tasks Exit\n"
          ]
        }
      ]
    }
  ]
}